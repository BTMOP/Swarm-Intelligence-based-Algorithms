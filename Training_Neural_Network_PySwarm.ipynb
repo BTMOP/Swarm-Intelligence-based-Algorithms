{
 "cells": [
  {
   "cell_type": "markdown",
   "metadata": {},
   "source": [
    "## Problem Definition ##\n",
    "In this example, we’ll be training a neural network using particle swarm optimization. For this we’ll be using the standard global-best PSO pyswarms.single.GBestPSO for optimizing the network’s weights and biases. This aims to demonstrate how the API is capable of handling custom-defined functions.\n",
    "\n",
    "For this example, we’ll try to classify the three iris species in the Iris Dataset using 2 layer neural network.\n",
    "\n",
    "Reference: https://pyswarms.readthedocs.io/en/latest/examples/usecases/train_neural_network.html"
   ]
  },
  {
   "cell_type": "code",
   "execution_count": 1,
   "metadata": {},
   "outputs": [],
   "source": [
    "# Import modules\n",
    "import numpy as np\n",
    "import matplotlib.pyplot as plt\n",
    "from sklearn.datasets import load_iris\n",
    "# Import PySwarms\n",
    "import pyswarms as ps"
   ]
  },
  {
   "cell_type": "code",
   "execution_count": 2,
   "metadata": {},
   "outputs": [],
   "source": [
    "# Load IRIS Dataset\n",
    "data = load_iris()"
   ]
  },
  {
   "cell_type": "code",
   "execution_count": 3,
   "metadata": {},
   "outputs": [],
   "source": [
    "# Store the features as X and the labels as y\n",
    "X = data.data\n",
    "y = data.target\n",
    "\n",
    "n_inputs = 4\n",
    "n_hidden = 20\n",
    "n_classes = 3\n",
    "\n",
    "num_samples = 150"
   ]
  },
  {
   "cell_type": "code",
   "execution_count": 4,
   "metadata": {},
   "outputs": [],
   "source": [
    "def logits_function(p):\n",
    "    \"\"\" Calculate roll-back the weights and biases\n",
    "\n",
    "    Inputs\n",
    "    ------\n",
    "    p: np.ndarray\n",
    "        The dimensions should include an unrolled version of the\n",
    "        weights and biases.\n",
    "\n",
    "    Returns\n",
    "    -------\n",
    "    numpy.ndarray of logits for layer 2\n",
    "\n",
    "    \"\"\"\n",
    "    # Roll-back the weights and biases\n",
    "    W1 = p[0:80].reshape((n_inputs,n_hidden))\n",
    "    b1 = p[80:100].reshape((n_hidden,))\n",
    "    W2 = p[100:160].reshape((n_hidden,n_classes))\n",
    "    b2 = p[160:163].reshape((n_classes,))\n",
    "\n",
    "    # Perform forward propagation\n",
    "    z1 = X.dot(W1) + b1  # Pre-activation in Layer 1\n",
    "    a1 = np.tanh(z1)     # Activation in Layer 1\n",
    "    logits = a1.dot(W2) + b2 # Pre-activation in Layer 2\n",
    "    return logits          # Logits for Layer 2\n",
    "\n"
   ]
  },
  {
   "cell_type": "code",
   "execution_count": 5,
   "metadata": {},
   "outputs": [],
   "source": [
    "# Forward propagation\n",
    "def forward_prop(params):\n",
    "    \"\"\"Forward propagation as objective function\n",
    "\n",
    "    This computes for the forward propagation of the neural network, as\n",
    "    well as the loss.\n",
    "\n",
    "    Inputs\n",
    "    ------\n",
    "    params: np.ndarray\n",
    "        The dimensions should include an unrolled version of the\n",
    "        weights and biases.\n",
    "\n",
    "    Returns\n",
    "    -------\n",
    "    float\n",
    "        The computed negative log-likelihood loss given the parameters\n",
    "    \"\"\"\n",
    "\n",
    "    logits = logits_function(params)\n",
    "\n",
    "    # Compute for the softmax of the logits\n",
    "    exp_scores = np.exp(logits)\n",
    "    probs = exp_scores / np.sum(exp_scores, axis=1, keepdims=True)\n",
    "\n",
    "    # Compute for the negative log likelihood\n",
    "\n",
    "    corect_logprobs = -np.log(probs[range(num_samples), y])\n",
    "    loss = np.sum(corect_logprobs) / num_samples\n",
    "\n",
    "    return loss\n"
   ]
  },
  {
   "cell_type": "code",
   "execution_count": 6,
   "metadata": {},
   "outputs": [],
   "source": [
    "def f(x):\n",
    "    \"\"\"Higher-level method to do forward_prop in the\n",
    "    whole swarm.\n",
    "\n",
    "    Inputs\n",
    "    ------\n",
    "    x: numpy.ndarray of shape (n_particles, dimensions)\n",
    "        The swarm that will perform the search\n",
    "\n",
    "    Returns\n",
    "    -------\n",
    "    numpy.ndarray of shape (n_particles, )\n",
    "        The computed loss for each particle\n",
    "    \"\"\"\n",
    "    n_particles = x.shape[0]\n",
    "    j = [forward_prop(x[i]) for i in range(n_particles)]\n",
    "    return np.array(j)\n"
   ]
  },
  {
   "cell_type": "code",
   "execution_count": 7,
   "metadata": {},
   "outputs": [
    {
     "name": "stderr",
     "output_type": "stream",
     "text": [
      "2020-11-17 04:01:16,241 - pyswarms.single.global_best - INFO - Optimize for 1000 iters with {'c1': 0.5, 'c2': 0.3, 'w': 0.9}\n",
      "pyswarms.single.global_best: 100%|██████████|1000/1000, best_cost=0.132\n",
      "2020-11-17 04:01:24,089 - pyswarms.single.global_best - INFO - Optimization finished | best cost: 0.13217636571868263, best pos: [-0.08513914  0.91234116  0.57854326 -0.84570455 -0.11775975  1.29935242\n",
      "  0.75900161  0.12136719  0.26145413  0.23115017 -0.13817435 -0.02190398\n",
      "  0.33678135  0.16316093  1.56425064 -0.95945268 -0.1519693  -0.85570436\n",
      "  1.16803532  0.67823521 -0.42384241 -1.03678939  0.38133575  0.00915552\n",
      "  0.13385548 -1.00776324 -0.34169834 -0.08873128  0.14295963 -1.16205589\n",
      " -0.68044005 -0.73809227  0.40256158  0.59066308 -1.35409668  0.61889887\n",
      " -0.47562718 -0.61526335  0.17787205  0.23886885 -0.06423171  0.68219108\n",
      " -1.6286412  -0.21292232  0.15898432 -0.70866008 -0.42103409  0.02484263\n",
      "  0.04338663  0.88272492  0.53929408 -0.62684297  0.38161909 -0.41859346\n",
      "  0.49479626  1.06796205  0.15582021 -0.83660044 -1.45047074  0.61118045\n",
      "  1.34713004 -0.53514356 -0.22959205 -0.52193584 -0.22831606 -0.78668887\n",
      " -0.06658411 -0.04203092 -1.70525029 -0.4162383   0.70547193  0.35817251\n",
      " -0.27885515  0.37489852  1.10097976 -0.03854069 -0.48025854  0.08467151\n",
      " -0.79986469  0.21301797  0.03400619 -0.04409472 -0.11078665  0.50293421\n",
      "  0.34369152 -1.14813641  0.08398192  0.66318874 -0.18342555  0.05676302\n",
      "  1.03183234 -1.19384211  0.25625209  0.10859033 -0.18950689  0.53840688\n",
      " -0.18426189  1.01777314  0.50262046 -0.24986864 -0.91994959 -4.16467148\n",
      "  0.21238965  0.06657009  0.66269002  0.84194914  0.22159809  0.05256844\n",
      "  0.10290346 -0.04594818  0.52666336  0.08266167  0.61269267 -1.77729246\n",
      " -0.03240903  1.21273541  0.59593615  0.37511087 -0.52543773 -0.02942934\n",
      " -1.50828553  0.42723697  0.44034425  0.21494611 -0.00781532 -0.21995087\n",
      " -1.04307188 -3.31218368  0.35810956 -0.62704954 -1.10105096  0.67124637\n",
      " -0.81733605 -0.40786792 -0.12921922  0.0545878  -0.0248857  -0.85101288\n",
      "  0.65976227 -0.15099898 -0.41202397 -0.00872059 -0.66413226  0.44495579\n",
      "  0.06474885 -0.59174343  0.78574445  0.14083773 -0.19989962  0.37181043\n",
      "  0.8759635   0.43187421  0.26205121  0.83702562 -0.05233632  0.62093396\n",
      " -1.06454792 -0.14202209 -0.88538973  0.55533498 -0.77907473 -0.23102699\n",
      " -0.1317487 ]\n"
     ]
    }
   ],
   "source": [
    "# Initialize swarm\n",
    "options = {'c1': 0.5, 'c2': 0.3, 'w':0.9}\n",
    "\n",
    "# Call instance of PSO\n",
    "dimensions = (n_inputs * n_hidden) + (n_hidden * n_classes) + n_hidden + n_classes\n",
    "optimizer = ps.single.GlobalBestPSO(n_particles=10, dimensions=dimensions, options=options)\n",
    "\n",
    "# Perform optimization\n",
    "cost, pos = optimizer.optimize(f, iters=1000)"
   ]
  }
 ],
 "metadata": {
  "kernelspec": {
   "display_name": "Python 3",
   "language": "python",
   "name": "python3"
  },
  "language_info": {
   "codemirror_mode": {
    "name": "ipython",
    "version": 3
   },
   "file_extension": ".py",
   "mimetype": "text/x-python",
   "name": "python",
   "nbconvert_exporter": "python",
   "pygments_lexer": "ipython3",
   "version": "3.6.9"
  }
 },
 "nbformat": 4,
 "nbformat_minor": 4
}

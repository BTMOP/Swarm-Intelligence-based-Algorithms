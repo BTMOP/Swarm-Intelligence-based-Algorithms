{
 "cells": [
  {
   "cell_type": "code",
   "execution_count": 1,
   "metadata": {},
   "outputs": [],
   "source": [
    "import numpy as np"
   ]
  },
  {
   "cell_type": "code",
   "execution_count": 2,
   "metadata": {},
   "outputs": [],
   "source": [
    "popsize = 10; # size of the swarm\n",
    "npar = 2; # number of dimensions\n",
    "maxit = 100; # number of iterations\n",
    "c1 = 1; # cognitive parameter\n",
    "c2 = 4-c1; # social parameter\n",
    "C=1; # constriction factor"
   ]
  },
  {
   "cell_type": "code",
   "execution_count": 33,
   "metadata": {},
   "outputs": [],
   "source": [
    "par = np.random.rand(10,2)*10\n",
    "vel = np.random.rand(10,2)*10"
   ]
  },
  {
   "cell_type": "code",
   "execution_count": 39,
   "metadata": {},
   "outputs": [
    {
     "data": {
      "text/plain": [
       "array([[7.87278758, 4.58900849],\n",
       "       [0.85571063, 6.98062283],\n",
       "       [2.51702399, 3.08540637],\n",
       "       [4.18039711, 9.17326228],\n",
       "       [1.73724755, 9.19505394],\n",
       "       [3.5054405 , 3.24614383],\n",
       "       [1.69907833, 0.95071194],\n",
       "       [8.65732045, 3.90151198],\n",
       "       [4.2212826 , 1.0320642 ],\n",
       "       [7.27783372, 2.42830341]])"
      ]
     },
     "execution_count": 39,
     "metadata": {},
     "output_type": "execute_result"
    }
   ],
   "source": [
    "par"
   ]
  },
  {
   "cell_type": "code",
   "execution_count": 41,
   "metadata": {},
   "outputs": [
    {
     "data": {
      "text/plain": [
       "array([0.85571063, 0.95071194])"
      ]
     },
     "execution_count": 41,
     "metadata": {},
     "output_type": "execute_result"
    }
   ],
   "source": [
    "np.amin(par, axis=0)"
   ]
  },
  {
   "cell_type": "code",
   "execution_count": null,
   "metadata": {},
   "outputs": [],
   "source": []
  },
  {
   "cell_type": "code",
   "execution_count": null,
   "metadata": {},
   "outputs": [],
   "source": []
  },
  {
   "cell_type": "code",
   "execution_count": null,
   "metadata": {},
   "outputs": [],
   "source": []
  },
  {
   "cell_type": "code",
   "execution_count": 26,
   "metadata": {},
   "outputs": [],
   "source": [
    "function = lambda x: -1 * np.exp(0.2 * np.sqrt(((x) - 1)**2 + ((x) + 1)**2) + np.cos(x) + np.sin(x))"
   ]
  },
  {
   "cell_type": "code",
   "execution_count": 31,
   "metadata": {},
   "outputs": [],
   "source": [
    "function = np.vectorize(function)"
   ]
  },
  {
   "cell_type": "code",
   "execution_count": 32,
   "metadata": {},
   "outputs": [
    {
     "data": {
      "text/plain": [
       "array([[ -5.46434311,  -4.74238092],\n",
       "       [ -1.07469685, -17.11713159],\n",
       "       [ -0.77450698,  -0.79958562],\n",
       "       [-30.23889935,  -3.20736513],\n",
       "       [-14.30481412,  -9.1319381 ],\n",
       "       [ -5.59403018,  -4.94648482],\n",
       "       [ -2.84521049,  -2.72200542],\n",
       "       [ -6.07974963, -20.09215833],\n",
       "       [-29.76151042, -31.8567034 ],\n",
       "       [ -7.20048673,  -5.48435051]])"
      ]
     },
     "execution_count": 32,
     "metadata": {},
     "output_type": "execute_result"
    }
   ],
   "source": [
    "function(par)"
   ]
  },
  {
   "cell_type": "code",
   "execution_count": null,
   "metadata": {},
   "outputs": [],
   "source": []
  }
 ],
 "metadata": {
  "kernelspec": {
   "display_name": "Python 3",
   "language": "python",
   "name": "python3"
  },
  "language_info": {
   "codemirror_mode": {
    "name": "ipython",
    "version": 3
   },
   "file_extension": ".py",
   "mimetype": "text/x-python",
   "name": "python",
   "nbconvert_exporter": "python",
   "pygments_lexer": "ipython3",
   "version": "3.8.6"
  }
 },
 "nbformat": 4,
 "nbformat_minor": 4
}

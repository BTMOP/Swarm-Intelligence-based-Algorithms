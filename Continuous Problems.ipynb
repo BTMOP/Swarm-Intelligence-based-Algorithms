{
 "cells": [
  {
   "cell_type": "code",
   "execution_count": 1,
   "metadata": {},
   "outputs": [],
   "source": [
    "import numpy as np\n",
    "from tqdm import tqdm"
   ]
  },
  {
   "cell_type": "code",
   "execution_count": 2,
   "metadata": {},
   "outputs": [],
   "source": [
    "function = lambda x: -1 * np.exp(0.2 * np.sqrt(((x) - 1)**2 + ((x) + 1)**2) + np.cos(x) + np.sin(x))"
   ]
  },
  {
   "cell_type": "code",
   "execution_count": 3,
   "metadata": {},
   "outputs": [],
   "source": [
    "function = np.vectorize(function)"
   ]
  },
  {
   "cell_type": "code",
   "execution_count": 4,
   "metadata": {},
   "outputs": [],
   "source": [
    "popsize = 100; # size of the swarm\n",
    "npar = 20; # number of dimensions\n",
    "maxit = 10000; # number of iterations\n",
    "c1 = 1; # cognitive parameter\n",
    "c2 = 4-c1; # social parameter\n",
    "C=1; # constriction factor"
   ]
  },
  {
   "cell_type": "code",
   "execution_count": 5,
   "metadata": {},
   "outputs": [],
   "source": [
    "par = np.random.rand(popsize,npar)\n",
    "vel = np.random.rand(popsize,npar)"
   ]
  },
  {
   "cell_type": "code",
   "execution_count": 6,
   "metadata": {},
   "outputs": [],
   "source": [
    "cost = function(par)"
   ]
  },
  {
   "cell_type": "code",
   "execution_count": 7,
   "metadata": {},
   "outputs": [],
   "source": [
    "global_best = np.amin(par, axis=0)"
   ]
  },
  {
   "cell_type": "code",
   "execution_count": 8,
   "metadata": {},
   "outputs": [],
   "source": [
    "localpar = par\n",
    "localcost = cost\n",
    "current_mean = par.mean()"
   ]
  },
  {
   "cell_type": "code",
   "execution_count": 9,
   "metadata": {},
   "outputs": [],
   "source": [
    "states = []"
   ]
  },
  {
   "cell_type": "markdown",
   "metadata": {},
   "source": [
    "This is a very watered down version of PSO that shown how each particle in the swarm moves to a collective goal of the group"
   ]
  },
  {
   "cell_type": "code",
   "execution_count": null,
   "metadata": {},
   "outputs": [
    {
     "name": "stderr",
     "output_type": "stream",
     "text": [
      " 14%|█▍        | 1404/10000 [00:13<01:27, 98.33it/s] "
     ]
    }
   ],
   "source": [
    "for itr in tqdm(range(maxit)):\n",
    "    w = (maxit - itr)/ maxit\n",
    "    r1 = np.random.rand(popsize, npar)\n",
    "    r2 = np.random.rand(popsize, npar)\n",
    "    vel = C * (w*vel + c1 *r1*(localpar-par) + c2*r2*(np.ones((popsize,1))*global_best-par))\n",
    "    par = par + vel\n",
    "    overlimit = par <= 1\n",
    "    underlimit = par >= 0\n",
    "    par = par * overlimit + (overlimit ^ True);\n",
    "    par = par * underlimit;\n",
    "    cost = function(par)\n",
    "    temp = np.amin(par, axis=0)\n",
    "    if temp.sum() < global_best.sum():\n",
    "        global_best = temp\n",
    "    if par.sum() < localpar.sum():\n",
    "        localpar = par;\n",
    "    states.append(par.sum())\n",
    "    "
   ]
  },
  {
   "cell_type": "code",
   "execution_count": 11,
   "metadata": {},
   "outputs": [
    {
     "data": {
      "image/png": "[encoded data removed]",
      "text/plain": [
       "<Figure size 432x288 with 1 Axes>"
      ]
     },
     "metadata": {
      "needs_background": "light"
     },
     "output_type": "display_data"
    }
   ],
   "source": [
    "import matplotlib.pyplot as plt\n",
    "plt.plot(states)\n",
    "plt.ylabel('cost')\n",
    "plt.xlabel('iterations')\n",
    "plt.show()"
   ]
  },
  {
   "cell_type": "code",
   "execution_count": null,
   "metadata": {},
   "outputs": [],
   "source": []
  }
 ],
 "metadata": {
  "kernelspec": {
   "display_name": "Python 3",
   "language": "python",
   "name": "python3"
  },
  "language_info": {
   "codemirror_mode": {
    "name": "ipython",
    "version": 3
   },
   "file_extension": ".py",
   "mimetype": "text/x-python",
   "name": "python",
   "nbconvert_exporter": "python",
   "pygments_lexer": "ipython3",
   "version": "3.8.6"
  }
 },
 "nbformat": 4,
 "nbformat_minor": 4
}

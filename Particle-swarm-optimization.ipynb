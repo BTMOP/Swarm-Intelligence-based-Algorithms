{
 "cells": [
  {
   "cell_type": "code",
   "execution_count": null,
   "metadata": {},
   "outputs": [],
   "source": [
    "%%capture\n",
    "\n",
    "##############################################################################\n",
    "# IGNORE if you are running on a local machine and have all the dependencies #\n",
    "##############################################################################\n",
    "\n",
    "# installing dependencies --- to be able to run on google colab\n",
    "# it would take 2-3 minutes\n",
    "!apt-get install libspatialindex-c4v5;\n",
    "!pip3 install Rtree;\n",
    "!pip3 install osmnx;\n",
    "\n",
    "# you HAVE to upload a number of files and folders used in the code\n",
    "# problem.py - utils.py - data files inside directory named data\n",
    "# upload them in the home directory --- don't go into any folder, just press upload button\n",
    "# and choose these files and folders\n",
    "# so tthe directory should be \n",
    "#|- data/       |- graph.html\n",
    "#|              |- route.html \n",
    "#|- sample_data/ \n",
    "#|- problem.py\n",
    "#|- utils.py"
   ]
  },
  {
   "cell_type": "markdown",
   "metadata": {},
   "source": [
    "# Explanation and Discussion to be done"
   ]
  },
  {
   "cell_type": "code",
   "execution_count": null,
   "metadata": {},
   "outputs": [],
   "source": [
    "import osmnx as ox\n",
    "import networkx as nx\n",
    "from IPython.display import IFrame, HTML\n",
    "from collections import deque\n",
    "import matplotlib.pyplot as plt\n",
    "import numpy as np\n",
    "import sys, random\n",
    "from problem import *\n",
    "from utils import *\n",
    "from itertools import filterfalse, chain"
   ]
  },
  {
   "cell_type": "code",
   "execution_count": null,
   "metadata": {},
   "outputs": [],
   "source": [
    "location_point = (43.661667, -79.395)\n",
    "G = ox.graph_from_point(location_point, dist=300, clean_periphery=True, simplify=True)\n",
    "graph_map = ox.plot_graph_folium(G, popup_attribute='name', edge_width=2)\n",
    "fig, ax = ox.plot_graph(G)"
   ]
  },
  {
   "cell_type": "code",
   "execution_count": null,
   "metadata": {},
   "outputs": [],
   "source": [
    "# marking both the source and destination node\n",
    "\n",
    "nc = ['r' if node == 389677909 or node == 55808290 else '#336699' for node in G.nodes()]\n",
    "ns = [50 if node == 389677909 or node == 55808290 else 8 for node in G.nodes()]\n",
    "fig, ax = ox.plot_graph(G, node_size=ns, node_color=nc, node_zorder=2)"
   ]
  },
  {
   "cell_type": "code",
   "execution_count": null,
   "metadata": {},
   "outputs": [],
   "source": [
    "%%capture\n",
    "source(Node)"
   ]
  },
  {
   "cell_type": "code",
   "execution_count": null,
   "metadata": {},
   "outputs": [],
   "source": [
    "def random_routes(G, source, destination, nums_of_paths = 1):\n",
    "    origin = Node(graph = G, node = G[source], osmid = source, distance = 0, parent = None)\n",
    "    destination = Node(graph = G, node = G[destination], osmid = destination)\n",
    "    nums = nums_of_paths\n",
    "    routes = list()\n",
    "    while nums > 0:\n",
    "        route = []\n",
    "        frontier = deque([origin])\n",
    "        explored = set()\n",
    "        found = False\n",
    "        while frontier and not found:\n",
    "            node = random.choice(frontier)   # here is the randomization part\n",
    "            frontier.remove(node)\n",
    "            explored.add(node)\n",
    "            for child in node.expand():\n",
    "                if child not in explored and child not in frontier:\n",
    "                    if child == destination:\n",
    "                        route, cost = child.path()\n",
    "                        routes.append((route, cost))\n",
    "                        found = True\n",
    "                    frontier.append(child)\n",
    "        nums -= 1\n",
    "    return routes"
   ]
  },
  {
   "cell_type": "code",
   "execution_count": null,
   "metadata": {},
   "outputs": [],
   "source": [
    "origin = Node(graph = G, node = G[55808290], osmid = 55808290, distance = 0, parent = None)\n",
    "destination = Node(graph = G, node = G[389677909], osmid = 389677909)"
   ]
  },
  {
   "cell_type": "code",
   "execution_count": null,
   "metadata": {},
   "outputs": [],
   "source": [
    "# this is more or less the same as the genetic search algorithm\n",
    "# but here we make sure to get the right solution\n",
    "def merge(p1, p2):\n",
    "    intersection = [*filterfalse(lambda element : element in [origin.osmid, destination.osmid] , list(set(p1) & set(p2)))]\n",
    "    if len(intersection) == 0: return p1\n",
    "    cross_over_point = random.choice(intersection)\n",
    "    first_point = p1.index(cross_over_point)\n",
    "    second_point = p2.index(cross_over_point)\n",
    "    if length_of_route(p1[:first_point] + p2[second_point:]) > length_of_route(p2[:second_point] + p1[first_point:]):\n",
    "        return p1[:first_point] + p2[second_point:]\n",
    "    else:\n",
    "        return p2[:second_point] + p1[first_point:]"
   ]
  },
  {
   "cell_type": "code",
   "execution_count": null,
   "metadata": {},
   "outputs": [],
   "source": [
    "particles_swarm = 200"
   ]
  },
  {
   "cell_type": "code",
   "execution_count": null,
   "metadata": {},
   "outputs": [],
   "source": [
    "particles = random_routes(G, 55808290, 389677909, particles_swarm)"
   ]
  },
  {
   "cell_type": "code",
   "execution_count": null,
   "metadata": {},
   "outputs": [],
   "source": [
    "num_of_swarms = 4"
   ]
  },
  {
   "cell_type": "code",
   "execution_count": null,
   "metadata": {},
   "outputs": [],
   "source": [
    "num_of_iterations = 50"
   ]
  },
  {
   "cell_type": "code",
   "execution_count": null,
   "metadata": {},
   "outputs": [],
   "source": [
    "for iteration in range(num_of_iterations):\n",
    "    # we need to have `num_of_swarms` particles to lead\n",
    "    # a swarm and be its lbest ... that changes every iteration\n",
    "    particles.sort(key = lambda particle : particle[1])\n",
    "    swarm_particles = particles_swarm // num_of_swarms\n",
    "    \n",
    "    leaders = particles[:swarm_particles]\n",
    "    \n",
    "    for i in range(num_of_swarms):\n",
    "        particles[i] , particles[i*(swarm_particles-1)] = particles[i*(swarm_particles-1)], particles[i]\n",
    "    \n",
    "    swarms = list()\n",
    "    \n",
    "    for i in range(num_of_swarms):\n",
    "        swarms.append(particles[i*(swarm_particles): i*(swarm_particles) + swarm_particles])\n",
    "    \n",
    "    # for each swarm follow the leader of the swarm\n",
    "    def follow_leader_local(population):\n",
    "        for i in range(1, len(population)):\n",
    "            ## packing and unpacking and all that to deal with\n",
    "            ## the immutability of tuples in python\n",
    "            population[i] = [*population[i]]\n",
    "            population[i][0] = merge(population[0][0], population[i][0]) # this is what we are doing\n",
    "            population[i][1] = length_of_route(G, population[i][0])\n",
    "            population[i] = tuple(population[i])\n",
    "            \n",
    "    for swarm in swarms:\n",
    "        follow_leader_local(swarm)\n",
    "    \n",
    "    def follow_leader_global():\n",
    "        for i in range(1, len(leaders)):\n",
    "            leaders[i] = [*leaders[i]]\n",
    "            leaders[i][0] = merge(leaders[0][0], leaders[i][0])\n",
    "            leaders[i][1] = length_of_route(G, leaders[i][0])\n",
    "            leaders[i] = tuple(leaders[i])\n",
    "    \n",
    "    follow_leader_global()\n",
    "    \n",
    "    particles = list(chain.from_iterable(swarms))\n",
    "    \n",
    "    # adding the new leaders\n",
    "    \n",
    "    for i in range(num_of_swarms):\n",
    "        particles[i*(swarm_particles - 1)] = leaders[i]"
   ]
  },
  {
   "cell_type": "code",
   "execution_count": null,
   "metadata": {},
   "outputs": [],
   "source": [
    "route, cost = min(particles, key = lambda particle : particle[1])"
   ]
  },
  {
   "cell_type": "code",
   "execution_count": null,
   "metadata": {},
   "outputs": [],
   "source": [
    "route"
   ]
  },
  {
   "cell_type": "code",
   "execution_count": null,
   "metadata": {},
   "outputs": [],
   "source": [
    "cost"
   ]
  },
  {
   "cell_type": "code",
   "execution_count": null,
   "metadata": {},
   "outputs": [],
   "source": [
    "fig, ax = ox.plot_graph_route(G, route)"
   ]
  },
  {
   "cell_type": "code",
   "execution_count": null,
   "metadata": {},
   "outputs": [],
   "source": []
  }
 ],
 "metadata": {
  "kernelspec": {
   "display_name": "Python 3",
   "language": "python",
   "name": "python3"
  },
  "language_info": {
   "codemirror_mode": {
    "name": "ipython",
    "version": 3
   },
   "file_extension": ".py",
   "mimetype": "text/x-python",
   "name": "python",
   "nbconvert_exporter": "python",
   "pygments_lexer": "ipython3",
   "version": "3.6.9"
  }
 },
 "nbformat": 4,
 "nbformat_minor": 4
}
